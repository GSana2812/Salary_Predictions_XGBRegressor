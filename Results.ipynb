{
 "cells": [
  {
   "cell_type": "code",
   "execution_count": 88,
   "metadata": {
    "collapsed": true,
    "ExecuteTime": {
     "end_time": "2023-10-23T07:54:08.242599Z",
     "start_time": "2023-10-23T07:54:08.172965Z"
    }
   },
   "outputs": [],
   "source": [
    "import sys\n",
    "sys.path.append('/Users/gscerberus/Desktop/Salary_Prediction')"
   ]
  },
  {
   "cell_type": "code",
   "execution_count": 89,
   "outputs": [],
   "source": [
    "import os\n",
    "os.chdir('/Users/gscerberus/Desktop/Salary_Prediction')"
   ],
   "metadata": {
    "collapsed": false,
    "ExecuteTime": {
     "end_time": "2023-10-23T07:54:08.610943Z",
     "start_time": "2023-10-23T07:54:08.603314Z"
    }
   }
  },
  {
   "cell_type": "code",
   "execution_count": 90,
   "outputs": [],
   "source": [
    "import pandas as pd\n",
    "from data_preprocessing import DataPreprocessor\n",
    "import numpy as np\n",
    "import pickle\n",
    "from typing import Type, Dict, List\n",
    "from descriptions import COMPANY_LOCATION, EMPLOYMENT_TYPE, EXPERIENCE_LEVEL, COMPANY_SIZE, EXPERIENCE_LEVEL_MAPPER, COMPANY_SIZE_MAPPER\n",
    "import warnings\n",
    "warnings.filterwarnings('ignore')\n",
    "\n",
    "from sklearn.preprocessing import OneHotEncoder\n",
    "from sklearn.model_selection import train_test_split\n",
    "\n",
    "from xgboost import XGBRegressor\n",
    "\n",
    "# Model Performance\n",
    "from sklearn.metrics import r2_score, mean_squared_error, mean_absolute_error\n",
    "\n"
   ],
   "metadata": {
    "collapsed": false,
    "ExecuteTime": {
     "end_time": "2023-10-23T07:54:09.016949Z",
     "start_time": "2023-10-23T07:54:09.009514Z"
    }
   }
  },
  {
   "cell_type": "code",
   "execution_count": 91,
   "outputs": [],
   "source": [
    "df = pd.read_csv('salaries.csv')\n",
    "\n",
    "# creating the DataPreprocessor instance\n",
    "data_preprocessor = DataPreprocessor(df)\n",
    "# Getting the countries with most records, removing countries that don't show us any significant information\n",
    "data = data_preprocessor.top_10_countries(\"company_location\")\n",
    "# Selecting salaries between 10k and 250k to ignore potential outliers\n",
    "data = data.select_salaries('salary_in_usd')\n",
    "# reseting index\n",
    "data = data.reset_index()\n",
    "\n",
    "# performing some mapping (in the end company size and experience level are mapped in an ordinal way)\n",
    "data.map_column('company_location', COMPANY_LOCATION)\n",
    "data.map_column('employment_type', EMPLOYMENT_TYPE)\n",
    "data.map_column('experience_level', EXPERIENCE_LEVEL)\n",
    "data.map_column('company_size', COMPANY_SIZE)\n",
    "\n",
    "# first getting the string values from columns, to not appear them as numbers in the app\n",
    "experience_level = data.get_unique_values('experience_level')\n",
    "company_size = data.get_unique_values('company_size')\n",
    "\n",
    "\n",
    "data.map_column('experience_level', EXPERIENCE_LEVEL_MAPPER)\n",
    "data.map_column('company_size', COMPANY_SIZE_MAPPER)\n",
    "\n",
    "# dropping columns we don't need for our study\n",
    "data = data.drop_unnecessary_columns(cols =  ['salary','salary_currency','employee_residence','work_year','remote_ratio'])\n"
   ],
   "metadata": {
    "collapsed": false,
    "ExecuteTime": {
     "end_time": "2023-10-23T07:54:09.833612Z",
     "start_time": "2023-10-23T07:54:09.789860Z"
    }
   }
  },
  {
   "cell_type": "code",
   "execution_count": 92,
   "outputs": [],
   "source": [
    "# Getting unique values of employment type, job title and company location to rename the columns after one hot encoding\n",
    "# Instead of having company_location_USA we can just have USA or employment_type_Part-Time we can just have Part-Time\n",
    "\n",
    "employment_type = data.get_unique_values('employment_type')\n",
    "job_title = data.get_unique_values('job_title')\n",
    "company_location = data.get_unique_values('company_location')\n",
    "\n",
    "\n",
    "categorical = [employment_type, job_title, company_location]"
   ],
   "metadata": {
    "collapsed": false,
    "ExecuteTime": {
     "end_time": "2023-10-23T07:54:10.604580Z",
     "start_time": "2023-10-23T07:54:10.515150Z"
    }
   }
  },
  {
   "cell_type": "code",
   "execution_count": 92,
   "outputs": [],
   "source": [],
   "metadata": {
    "collapsed": false,
    "ExecuteTime": {
     "end_time": "2023-10-23T07:54:13.060030Z",
     "start_time": "2023-10-23T07:54:13.033293Z"
    }
   }
  },
  {
   "cell_type": "code",
   "execution_count": 93,
   "outputs": [],
   "source": [
    "# One hot encoding the columns\n",
    "\n",
    "columns_to_one_hot_encode = ['employment_type','job_title','company_location']\n",
    "data_one_hot_encoded = data.one_hot_encode_df(columns_to_one_hot_encode)\n",
    "\n",
    "# renaming each column\n",
    "for i, id in enumerate(categorical):\n",
    "    data_one_hot_encoded.rename_columns(id, columns_to_one_hot_encode[i])"
   ],
   "metadata": {
    "collapsed": false,
    "ExecuteTime": {
     "end_time": "2023-10-23T07:54:14.009224Z",
     "start_time": "2023-10-23T07:54:13.990325Z"
    }
   }
  },
  {
   "cell_type": "code",
   "execution_count": 94,
   "outputs": [],
   "source": [
    "final_df = DataPreprocessor.concat_dataframes(data_one_hot_encoded.data,data.data)"
   ],
   "metadata": {
    "collapsed": false,
    "ExecuteTime": {
     "end_time": "2023-10-23T07:54:14.603618Z",
     "start_time": "2023-10-23T07:54:14.598917Z"
    }
   }
  },
  {
   "cell_type": "code",
   "execution_count": 95,
   "outputs": [
    {
     "data": {
      "text/plain": "   Contract  Freelancer  Full-Time  Part-Time  AI Architect  AI Developer  \\\n0       0.0         0.0        1.0        0.0           0.0           0.0   \n1       0.0         0.0        1.0        0.0           0.0           0.0   \n2       0.0         0.0        1.0        0.0           0.0           0.0   \n3       0.0         0.0        1.0        0.0           0.0           0.0   \n4       0.0         0.0        1.0        0.0           0.0           0.0   \n\n   AI Engineer  AI Programmer  AI Research Engineer  AI Scientist  ...  \\\n0          0.0            0.0                   0.0           0.0  ...   \n1          0.0            0.0                   0.0           0.0  ...   \n2          0.0            0.0                   0.0           0.0  ...   \n3          0.0            0.0                   0.0           0.0  ...   \n4          0.0            0.0                   0.0           0.0  ...   \n\n   Netherlands  Portugal  Spain  United States  experience_level  \\\n0          0.0       0.0    0.0            1.0                 1   \n1          0.0       0.0    0.0            1.0                 1   \n2          0.0       0.0    0.0            0.0                 1   \n3          0.0       0.0    0.0            0.0                 1   \n4          0.0       0.0    0.0            1.0                 2   \n\n   employment_type                  job_title  salary_in_usd  \\\n0        Full-Time  Machine Learning Engineer         150000   \n1        Full-Time  Machine Learning Engineer          50000   \n2        Full-Time              Data Engineer          73824   \n3        Full-Time              Data Engineer          55368   \n4        Full-Time      Data Science Engineer         220000   \n\n   company_location  company_size  \n0     United States             1  \n1     United States             1  \n2     Great Britain             1  \n3     Great Britain             1  \n4     United States             1  \n\n[5 rows x 131 columns]",
      "text/html": "<div>\n<style scoped>\n    .dataframe tbody tr th:only-of-type {\n        vertical-align: middle;\n    }\n\n    .dataframe tbody tr th {\n        vertical-align: top;\n    }\n\n    .dataframe thead th {\n        text-align: right;\n    }\n</style>\n<table border=\"1\" class=\"dataframe\">\n  <thead>\n    <tr style=\"text-align: right;\">\n      <th></th>\n      <th>Contract</th>\n      <th>Freelancer</th>\n      <th>Full-Time</th>\n      <th>Part-Time</th>\n      <th>AI Architect</th>\n      <th>AI Developer</th>\n      <th>AI Engineer</th>\n      <th>AI Programmer</th>\n      <th>AI Research Engineer</th>\n      <th>AI Scientist</th>\n      <th>...</th>\n      <th>Netherlands</th>\n      <th>Portugal</th>\n      <th>Spain</th>\n      <th>United States</th>\n      <th>experience_level</th>\n      <th>employment_type</th>\n      <th>job_title</th>\n      <th>salary_in_usd</th>\n      <th>company_location</th>\n      <th>company_size</th>\n    </tr>\n  </thead>\n  <tbody>\n    <tr>\n      <th>0</th>\n      <td>0.0</td>\n      <td>0.0</td>\n      <td>1.0</td>\n      <td>0.0</td>\n      <td>0.0</td>\n      <td>0.0</td>\n      <td>0.0</td>\n      <td>0.0</td>\n      <td>0.0</td>\n      <td>0.0</td>\n      <td>...</td>\n      <td>0.0</td>\n      <td>0.0</td>\n      <td>0.0</td>\n      <td>1.0</td>\n      <td>1</td>\n      <td>Full-Time</td>\n      <td>Machine Learning Engineer</td>\n      <td>150000</td>\n      <td>United States</td>\n      <td>1</td>\n    </tr>\n    <tr>\n      <th>1</th>\n      <td>0.0</td>\n      <td>0.0</td>\n      <td>1.0</td>\n      <td>0.0</td>\n      <td>0.0</td>\n      <td>0.0</td>\n      <td>0.0</td>\n      <td>0.0</td>\n      <td>0.0</td>\n      <td>0.0</td>\n      <td>...</td>\n      <td>0.0</td>\n      <td>0.0</td>\n      <td>0.0</td>\n      <td>1.0</td>\n      <td>1</td>\n      <td>Full-Time</td>\n      <td>Machine Learning Engineer</td>\n      <td>50000</td>\n      <td>United States</td>\n      <td>1</td>\n    </tr>\n    <tr>\n      <th>2</th>\n      <td>0.0</td>\n      <td>0.0</td>\n      <td>1.0</td>\n      <td>0.0</td>\n      <td>0.0</td>\n      <td>0.0</td>\n      <td>0.0</td>\n      <td>0.0</td>\n      <td>0.0</td>\n      <td>0.0</td>\n      <td>...</td>\n      <td>0.0</td>\n      <td>0.0</td>\n      <td>0.0</td>\n      <td>0.0</td>\n      <td>1</td>\n      <td>Full-Time</td>\n      <td>Data Engineer</td>\n      <td>73824</td>\n      <td>Great Britain</td>\n      <td>1</td>\n    </tr>\n    <tr>\n      <th>3</th>\n      <td>0.0</td>\n      <td>0.0</td>\n      <td>1.0</td>\n      <td>0.0</td>\n      <td>0.0</td>\n      <td>0.0</td>\n      <td>0.0</td>\n      <td>0.0</td>\n      <td>0.0</td>\n      <td>0.0</td>\n      <td>...</td>\n      <td>0.0</td>\n      <td>0.0</td>\n      <td>0.0</td>\n      <td>0.0</td>\n      <td>1</td>\n      <td>Full-Time</td>\n      <td>Data Engineer</td>\n      <td>55368</td>\n      <td>Great Britain</td>\n      <td>1</td>\n    </tr>\n    <tr>\n      <th>4</th>\n      <td>0.0</td>\n      <td>0.0</td>\n      <td>1.0</td>\n      <td>0.0</td>\n      <td>0.0</td>\n      <td>0.0</td>\n      <td>0.0</td>\n      <td>0.0</td>\n      <td>0.0</td>\n      <td>0.0</td>\n      <td>...</td>\n      <td>0.0</td>\n      <td>0.0</td>\n      <td>0.0</td>\n      <td>1.0</td>\n      <td>2</td>\n      <td>Full-Time</td>\n      <td>Data Science Engineer</td>\n      <td>220000</td>\n      <td>United States</td>\n      <td>1</td>\n    </tr>\n  </tbody>\n</table>\n<p>5 rows × 131 columns</p>\n</div>"
     },
     "execution_count": 95,
     "metadata": {},
     "output_type": "execute_result"
    }
   ],
   "source": [
    "final_df.print()"
   ],
   "metadata": {
    "collapsed": false,
    "ExecuteTime": {
     "end_time": "2023-10-23T07:54:14.904854Z",
     "start_time": "2023-10-23T07:54:14.888558Z"
    }
   }
  },
  {
   "cell_type": "code",
   "execution_count": 96,
   "outputs": [
    {
     "name": "stdout",
     "output_type": "stream",
     "text": [
      "<class 'data_preprocessing.DataPreprocessor'>\n"
     ]
    }
   ],
   "source": [
    "print(type(final_df)) #we can convert it into a dataframe to perform the necessary changes"
   ],
   "metadata": {
    "collapsed": false,
    "ExecuteTime": {
     "end_time": "2023-10-23T07:54:15.289127Z",
     "start_time": "2023-10-23T07:54:15.238839Z"
    }
   }
  },
  {
   "cell_type": "code",
   "execution_count": 97,
   "outputs": [],
   "source": [
    "# dropping columns that were used to be one hot encoded\n",
    "\n",
    "final_df = final_df.drop_unnecessary_columns(columns_to_one_hot_encode)"
   ],
   "metadata": {
    "collapsed": false,
    "ExecuteTime": {
     "end_time": "2023-10-23T07:54:15.625885Z",
     "start_time": "2023-10-23T07:54:15.616768Z"
    }
   }
  },
  {
   "cell_type": "code",
   "execution_count": 98,
   "outputs": [
    {
     "data": {
      "text/plain": "   Contract  Freelancer  Full-Time  Part-Time  AI Architect  AI Developer  \\\n0       0.0         0.0        1.0        0.0           0.0           0.0   \n1       0.0         0.0        1.0        0.0           0.0           0.0   \n2       0.0         0.0        1.0        0.0           0.0           0.0   \n3       0.0         0.0        1.0        0.0           0.0           0.0   \n4       0.0         0.0        1.0        0.0           0.0           0.0   \n\n   AI Engineer  AI Programmer  AI Research Engineer  AI Scientist  ...  \\\n0          0.0            0.0                   0.0           0.0  ...   \n1          0.0            0.0                   0.0           0.0  ...   \n2          0.0            0.0                   0.0           0.0  ...   \n3          0.0            0.0                   0.0           0.0  ...   \n4          0.0            0.0                   0.0           0.0  ...   \n\n   Germany  Great Britain  India  Netherlands  Portugal  Spain  United States  \\\n0      0.0            0.0    0.0          0.0       0.0    0.0            1.0   \n1      0.0            0.0    0.0          0.0       0.0    0.0            1.0   \n2      0.0            1.0    0.0          0.0       0.0    0.0            0.0   \n3      0.0            1.0    0.0          0.0       0.0    0.0            0.0   \n4      0.0            0.0    0.0          0.0       0.0    0.0            1.0   \n\n   experience_level  salary_in_usd  company_size  \n0                 1         150000             1  \n1                 1          50000             1  \n2                 1          73824             1  \n3                 1          55368             1  \n4                 2         220000             1  \n\n[5 rows x 128 columns]",
      "text/html": "<div>\n<style scoped>\n    .dataframe tbody tr th:only-of-type {\n        vertical-align: middle;\n    }\n\n    .dataframe tbody tr th {\n        vertical-align: top;\n    }\n\n    .dataframe thead th {\n        text-align: right;\n    }\n</style>\n<table border=\"1\" class=\"dataframe\">\n  <thead>\n    <tr style=\"text-align: right;\">\n      <th></th>\n      <th>Contract</th>\n      <th>Freelancer</th>\n      <th>Full-Time</th>\n      <th>Part-Time</th>\n      <th>AI Architect</th>\n      <th>AI Developer</th>\n      <th>AI Engineer</th>\n      <th>AI Programmer</th>\n      <th>AI Research Engineer</th>\n      <th>AI Scientist</th>\n      <th>...</th>\n      <th>Germany</th>\n      <th>Great Britain</th>\n      <th>India</th>\n      <th>Netherlands</th>\n      <th>Portugal</th>\n      <th>Spain</th>\n      <th>United States</th>\n      <th>experience_level</th>\n      <th>salary_in_usd</th>\n      <th>company_size</th>\n    </tr>\n  </thead>\n  <tbody>\n    <tr>\n      <th>0</th>\n      <td>0.0</td>\n      <td>0.0</td>\n      <td>1.0</td>\n      <td>0.0</td>\n      <td>0.0</td>\n      <td>0.0</td>\n      <td>0.0</td>\n      <td>0.0</td>\n      <td>0.0</td>\n      <td>0.0</td>\n      <td>...</td>\n      <td>0.0</td>\n      <td>0.0</td>\n      <td>0.0</td>\n      <td>0.0</td>\n      <td>0.0</td>\n      <td>0.0</td>\n      <td>1.0</td>\n      <td>1</td>\n      <td>150000</td>\n      <td>1</td>\n    </tr>\n    <tr>\n      <th>1</th>\n      <td>0.0</td>\n      <td>0.0</td>\n      <td>1.0</td>\n      <td>0.0</td>\n      <td>0.0</td>\n      <td>0.0</td>\n      <td>0.0</td>\n      <td>0.0</td>\n      <td>0.0</td>\n      <td>0.0</td>\n      <td>...</td>\n      <td>0.0</td>\n      <td>0.0</td>\n      <td>0.0</td>\n      <td>0.0</td>\n      <td>0.0</td>\n      <td>0.0</td>\n      <td>1.0</td>\n      <td>1</td>\n      <td>50000</td>\n      <td>1</td>\n    </tr>\n    <tr>\n      <th>2</th>\n      <td>0.0</td>\n      <td>0.0</td>\n      <td>1.0</td>\n      <td>0.0</td>\n      <td>0.0</td>\n      <td>0.0</td>\n      <td>0.0</td>\n      <td>0.0</td>\n      <td>0.0</td>\n      <td>0.0</td>\n      <td>...</td>\n      <td>0.0</td>\n      <td>1.0</td>\n      <td>0.0</td>\n      <td>0.0</td>\n      <td>0.0</td>\n      <td>0.0</td>\n      <td>0.0</td>\n      <td>1</td>\n      <td>73824</td>\n      <td>1</td>\n    </tr>\n    <tr>\n      <th>3</th>\n      <td>0.0</td>\n      <td>0.0</td>\n      <td>1.0</td>\n      <td>0.0</td>\n      <td>0.0</td>\n      <td>0.0</td>\n      <td>0.0</td>\n      <td>0.0</td>\n      <td>0.0</td>\n      <td>0.0</td>\n      <td>...</td>\n      <td>0.0</td>\n      <td>1.0</td>\n      <td>0.0</td>\n      <td>0.0</td>\n      <td>0.0</td>\n      <td>0.0</td>\n      <td>0.0</td>\n      <td>1</td>\n      <td>55368</td>\n      <td>1</td>\n    </tr>\n    <tr>\n      <th>4</th>\n      <td>0.0</td>\n      <td>0.0</td>\n      <td>1.0</td>\n      <td>0.0</td>\n      <td>0.0</td>\n      <td>0.0</td>\n      <td>0.0</td>\n      <td>0.0</td>\n      <td>0.0</td>\n      <td>0.0</td>\n      <td>...</td>\n      <td>0.0</td>\n      <td>0.0</td>\n      <td>0.0</td>\n      <td>0.0</td>\n      <td>0.0</td>\n      <td>0.0</td>\n      <td>1.0</td>\n      <td>2</td>\n      <td>220000</td>\n      <td>1</td>\n    </tr>\n  </tbody>\n</table>\n<p>5 rows × 128 columns</p>\n</div>"
     },
     "execution_count": 98,
     "metadata": {},
     "output_type": "execute_result"
    }
   ],
   "source": [
    "final_df.data.head()"
   ],
   "metadata": {
    "collapsed": false,
    "ExecuteTime": {
     "end_time": "2023-10-23T07:54:16.023911Z",
     "start_time": "2023-10-23T07:54:16.009581Z"
    }
   }
  },
  {
   "cell_type": "code",
   "execution_count": 99,
   "outputs": [
    {
     "name": "stdout",
     "output_type": "stream",
     "text": [
      "32211.31498555038\n",
      "40058.96183362004\n",
      "38509.11905721688\n"
     ]
    }
   ],
   "source": [
    "df = final_df.data #now we are dealing with a dataframe\n",
    "\n",
    "X = df.drop(columns='salary_in_usd', axis=1)\n",
    "y = df['salary_in_usd']\n",
    "\n",
    "X_train, X_test, y_train, y_test = train_test_split(X, y, test_size=0.2, random_state=42)\n",
    "\n",
    "xgb = XGBRegressor(lr=0.01, max_depth=3, n_estimators=100)\n",
    "xgb.fit(X_train, y_train)\n",
    "y_pred = xgb.predict(X_test)\n",
    "y_pred_1 = xgb.predict(X_train)\n",
    "\n",
    "print(mean_absolute_error(y_test, y_pred))\n",
    "print(np.sqrt(mean_squared_error(y_test, y_pred)))\n",
    "print(np.sqrt(mean_squared_error(y_train, y_pred_1)))  # XGB regressor will be used and no problems with overfitting"
   ],
   "metadata": {
    "collapsed": false,
    "ExecuteTime": {
     "end_time": "2023-10-23T07:54:16.492568Z",
     "start_time": "2023-10-23T07:54:16.394534Z"
    }
   }
  },
  {
   "cell_type": "code",
   "execution_count": 100,
   "outputs": [],
   "source": [
    "# Testing results in inference\n",
    "X = {'company_location':'United States',\n",
    "     'company_size': 'Large',\n",
    "     'experience_level':'Senior-Level',\n",
    "     'job_title':'AI Engineer',\n",
    "     'employment_type':'Full Time'}\n",
    "\n",
    "\n",
    "# Create a row with all encoded columns, setting the other country and job title columns to 0\n",
    "encoded_columns = data_one_hot_encoded.data.columns\n",
    "encoded_row = [1 if col == X['company_location'] or col == X['job_title'] or col == X['employment_type'] else 0 for col in encoded_columns]\n",
    "\n",
    "# Create a new dataframe for prediction with the same column names\n",
    "df_prediction = pd.DataFrame([encoded_row], columns=[encoded_columns])\n",
    "\n",
    "# The df_prediction dataframe now contains one-hot encoding for the specified features\n",
    "df_prediction['experience_level'] = X['experience_level']\n",
    "df_prediction['company_size'] = X['company_size']"
   ],
   "metadata": {
    "collapsed": false,
    "ExecuteTime": {
     "end_time": "2023-10-23T07:54:17.458066Z",
     "start_time": "2023-10-23T07:54:17.152540Z"
    }
   }
  },
  {
   "cell_type": "code",
   "execution_count": 101,
   "outputs": [
    {
     "data": {
      "text/plain": "  Contract Freelancer Full-Time Part-Time AI Architect AI Developer  \\\n0        0          0         0         0            0            0   \n\n  AI Engineer AI Programmer AI Research Engineer AI Scientist  ... France  \\\n0           1             0                    0            0  ...      0   \n\n  Germany Great Britain India Netherlands Portugal Spain United States  \\\n0       0             0     0           0        0     0             1   \n\n  experience_level company_size  \n0     Senior-Level        Large  \n\n[1 rows x 127 columns]",
      "text/html": "<div>\n<style scoped>\n    .dataframe tbody tr th:only-of-type {\n        vertical-align: middle;\n    }\n\n    .dataframe tbody tr th {\n        vertical-align: top;\n    }\n\n    .dataframe thead tr th {\n        text-align: left;\n    }\n</style>\n<table border=\"1\" class=\"dataframe\">\n  <thead>\n    <tr>\n      <th></th>\n      <th>Contract</th>\n      <th>Freelancer</th>\n      <th>Full-Time</th>\n      <th>Part-Time</th>\n      <th>AI Architect</th>\n      <th>AI Developer</th>\n      <th>AI Engineer</th>\n      <th>AI Programmer</th>\n      <th>AI Research Engineer</th>\n      <th>AI Scientist</th>\n      <th>...</th>\n      <th>France</th>\n      <th>Germany</th>\n      <th>Great Britain</th>\n      <th>India</th>\n      <th>Netherlands</th>\n      <th>Portugal</th>\n      <th>Spain</th>\n      <th>United States</th>\n      <th>experience_level</th>\n      <th>company_size</th>\n    </tr>\n  </thead>\n  <tbody>\n    <tr>\n      <th>0</th>\n      <td>0</td>\n      <td>0</td>\n      <td>0</td>\n      <td>0</td>\n      <td>0</td>\n      <td>0</td>\n      <td>1</td>\n      <td>0</td>\n      <td>0</td>\n      <td>0</td>\n      <td>...</td>\n      <td>0</td>\n      <td>0</td>\n      <td>0</td>\n      <td>0</td>\n      <td>0</td>\n      <td>0</td>\n      <td>0</td>\n      <td>1</td>\n      <td>Senior-Level</td>\n      <td>Large</td>\n    </tr>\n  </tbody>\n</table>\n<p>1 rows × 127 columns</p>\n</div>"
     },
     "execution_count": 101,
     "metadata": {},
     "output_type": "execute_result"
    }
   ],
   "source": [
    "df_prediction"
   ],
   "metadata": {
    "collapsed": false,
    "ExecuteTime": {
     "end_time": "2023-10-23T07:54:18.732122Z",
     "start_time": "2023-10-23T07:54:18.723347Z"
    }
   }
  },
  {
   "cell_type": "code",
   "execution_count": 102,
   "outputs": [],
   "source": [
    "# mapping company size from Large to the number and senior level as well, so in the app will appear\n",
    "# for ease of functionality Large/Medium/Small or Senior-Level/Executive-Level and so on, but to perform our\n",
    "# predictions, we need them converted into numbers\n",
    "df_prediction['experience_level'] = df_prediction['experience_level'].map(lambda x: EXPERIENCE_LEVEL_MAPPER.get(x, x))\n",
    "df_prediction['company_size'] = df_prediction['company_size'].map(lambda x: COMPANY_SIZE_MAPPER.get(x, x))"
   ],
   "metadata": {
    "collapsed": false,
    "ExecuteTime": {
     "end_time": "2023-10-23T07:54:19.708867Z",
     "start_time": "2023-10-23T07:54:19.703366Z"
    }
   }
  },
  {
   "cell_type": "code",
   "execution_count": 103,
   "outputs": [
    {
     "data": {
      "text/plain": "  Contract Freelancer Full-Time Part-Time AI Architect AI Developer  \\\n0        0          0         0         0            0            0   \n\n  AI Engineer AI Programmer AI Research Engineer AI Scientist  ... France  \\\n0           1             0                    0            0  ...      0   \n\n  Germany Great Britain India Netherlands Portugal Spain United States  \\\n0       0             0     0           0        0     0             1   \n\n  experience_level company_size  \n0                2            2  \n\n[1 rows x 127 columns]",
      "text/html": "<div>\n<style scoped>\n    .dataframe tbody tr th:only-of-type {\n        vertical-align: middle;\n    }\n\n    .dataframe tbody tr th {\n        vertical-align: top;\n    }\n\n    .dataframe thead tr th {\n        text-align: left;\n    }\n</style>\n<table border=\"1\" class=\"dataframe\">\n  <thead>\n    <tr>\n      <th></th>\n      <th>Contract</th>\n      <th>Freelancer</th>\n      <th>Full-Time</th>\n      <th>Part-Time</th>\n      <th>AI Architect</th>\n      <th>AI Developer</th>\n      <th>AI Engineer</th>\n      <th>AI Programmer</th>\n      <th>AI Research Engineer</th>\n      <th>AI Scientist</th>\n      <th>...</th>\n      <th>France</th>\n      <th>Germany</th>\n      <th>Great Britain</th>\n      <th>India</th>\n      <th>Netherlands</th>\n      <th>Portugal</th>\n      <th>Spain</th>\n      <th>United States</th>\n      <th>experience_level</th>\n      <th>company_size</th>\n    </tr>\n  </thead>\n  <tbody>\n    <tr>\n      <th>0</th>\n      <td>0</td>\n      <td>0</td>\n      <td>0</td>\n      <td>0</td>\n      <td>0</td>\n      <td>0</td>\n      <td>1</td>\n      <td>0</td>\n      <td>0</td>\n      <td>0</td>\n      <td>...</td>\n      <td>0</td>\n      <td>0</td>\n      <td>0</td>\n      <td>0</td>\n      <td>0</td>\n      <td>0</td>\n      <td>0</td>\n      <td>1</td>\n      <td>2</td>\n      <td>2</td>\n    </tr>\n  </tbody>\n</table>\n<p>1 rows × 127 columns</p>\n</div>"
     },
     "execution_count": 103,
     "metadata": {},
     "output_type": "execute_result"
    }
   ],
   "source": [
    "df_prediction"
   ],
   "metadata": {
    "collapsed": false,
    "ExecuteTime": {
     "end_time": "2023-10-23T07:54:20.428880Z",
     "start_time": "2023-10-23T07:54:20.402085Z"
    }
   }
  },
  {
   "cell_type": "code",
   "execution_count": 104,
   "outputs": [
    {
     "data": {
      "text/plain": "array([125982.9], dtype=float32)"
     },
     "execution_count": 104,
     "metadata": {},
     "output_type": "execute_result"
    }
   ],
   "source": [
    "# getting the inference prediction\n",
    "y_pred = xgb.predict(df_prediction)\n",
    "\n",
    "y_pred"
   ],
   "metadata": {
    "collapsed": false,
    "ExecuteTime": {
     "end_time": "2023-10-23T07:54:21.454698Z",
     "start_time": "2023-10-23T07:54:21.434931Z"
    }
   }
  },
  {
   "cell_type": "code",
   "execution_count": 105,
   "outputs": [],
   "source": [
    "data = {\"model\":xgb,\n",
    "        \"encoded_columns\":encoded_columns,\n",
    "        \"experience_level\": experience_level,\n",
    "        \"company_size\":company_size,\n",
    "        \"employment_type\":employment_type,\n",
    "        \"job_title\":job_title,\n",
    "        \"company_location\":company_location}\n",
    "\n",
    "with open(\"saved_steps.pkl\", \"wb\") as file:\n",
    "    pickle.dump(data, file)"
   ],
   "metadata": {
    "collapsed": false,
    "ExecuteTime": {
     "end_time": "2023-10-23T07:54:33.810037Z",
     "start_time": "2023-10-23T07:54:33.765114Z"
    }
   }
  },
  {
   "cell_type": "code",
   "execution_count": null,
   "outputs": [],
   "source": [],
   "metadata": {
    "collapsed": false
   }
  }
 ],
 "metadata": {
  "kernelspec": {
   "name": "jupyter",
   "language": "python",
   "display_name": "jupyter"
  },
  "language_info": {
   "codemirror_mode": {
    "name": "ipython",
    "version": 2
   },
   "file_extension": ".py",
   "mimetype": "text/x-python",
   "name": "python",
   "nbconvert_exporter": "python",
   "pygments_lexer": "ipython2",
   "version": "2.7.6"
  }
 },
 "nbformat": 4,
 "nbformat_minor": 0
}
